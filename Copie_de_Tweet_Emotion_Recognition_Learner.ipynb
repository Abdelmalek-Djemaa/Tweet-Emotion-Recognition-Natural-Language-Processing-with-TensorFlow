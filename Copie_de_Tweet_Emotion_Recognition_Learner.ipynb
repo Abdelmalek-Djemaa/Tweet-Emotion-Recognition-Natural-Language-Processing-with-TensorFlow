{
  "nbformat": 4,
  "nbformat_minor": 0,
  "metadata": {
    "accelerator": "GPU",
    "colab": {
      "provenance": [],
      "gpuType": "T4",
      "include_colab_link": true
    },
    "kernelspec": {
      "display_name": "Python 3",
      "name": "python3"
    },
    "language_info": {
      "codemirror_mode": {
        "name": "ipython",
        "version": 3
      },
      "file_extension": ".py",
      "mimetype": "text/x-python",
      "name": "python",
      "nbconvert_exporter": "python",
      "pygments_lexer": "ipython3",
      "version": "3.8.3"
    }
  },
  "cells": [
    {
      "cell_type": "markdown",
      "metadata": {
        "id": "view-in-github",
        "colab_type": "text"
      },
      "source": [
        "<a href=\"https://colab.research.google.com/github/Abdelmalek-Djemaa/Tweet-Emotion-Recognition-Natural-Language-Processing-with-TensorFlow/blob/main/Copie_de_Tweet_Emotion_Recognition_Learner.ipynb\" target=\"_parent\"><img src=\"https://colab.research.google.com/assets/colab-badge.svg\" alt=\"Open In Colab\"/></a>"
      ]
    },
    {
      "cell_type": "markdown",
      "metadata": {
        "id": "sp7D0ktn5eiG"
      },
      "source": [
        "## Tweet Emotion Recognition: Natural Language Processing with TensorFlow\n"
      ]
    },
    {
      "cell_type": "markdown",
      "metadata": {
        "id": "cprXxkrMxIgT"
      },
      "source": [
        "## Task 1: Setup and Imports\n",
        "\n",
        "\n",
        "1. Importing libraries"
      ]
    },
    {
      "cell_type": "code",
      "metadata": {
        "id": "yKFjWz6e5eiH"
      },
      "source": [
        "%matplotlib inline\n",
        "\n",
        "from sklearn.model_selection import train_test_split\n",
        "import tensorflow as tf\n",
        "import numpy as np\n",
        "import pandas as pd\n",
        "import matplotlib.pyplot as plt"
      ],
      "execution_count": 20,
      "outputs": []
    },
    {
      "cell_type": "markdown",
      "metadata": {
        "id": "7JsBpezExIga"
      },
      "source": [
        "## Task 2: Importing Data\n",
        "\n",
        "1. Importing the Tweet Emotion dataset\n",
        "2. Creating train, validation and test sets\n",
        "3. Extracting tweets and labels from the examples"
      ]
    },
    {
      "cell_type": "code",
      "metadata": {
        "id": "0YHOvjAu5eiL"
      },
      "source": [
        "data = pd.read_pickle(\"/content/merged_training.pkl\")"
      ],
      "execution_count": 10,
      "outputs": []
    },
    {
      "cell_type": "code",
      "metadata": {
        "id": "2s0h541FxIgc",
        "colab": {
          "base_uri": "https://localhost:8080/"
        },
        "outputId": "f466f852-1f97-4487-9cb2-b5d373a75ade"
      },
      "source": [
        "print(data)\n",
        "print(data.shape)"
      ],
      "execution_count": 19,
      "outputs": [
        {
          "output_type": "stream",
          "name": "stdout",
          "text": [
            "                                                     text emotions\n",
            "27383   i feel awful about it too because it s my job ...  sadness\n",
            "110083                              im alone i feel awful  sadness\n",
            "140764  ive probably mentioned this before but i reall...      joy\n",
            "100071           i was feeling a little low few days back  sadness\n",
            "2837    i beleive that i am much more sensitive to oth...     love\n",
            "...                                                   ...      ...\n",
            "566     that was what i felt when i was finally accept...      joy\n",
            "36236   i take every day as it comes i m just focussin...     fear\n",
            "76229       i just suddenly feel that everything was fake  sadness\n",
            "131640  im feeling more eager than ever to claw back w...      joy\n",
            "64703   i give you plenty of attention even when i fee...  sadness\n",
            "\n",
            "[416809 rows x 2 columns]\n",
            "(416809, 2)\n"
          ]
        }
      ]
    },
    {
      "cell_type": "code",
      "metadata": {
        "id": "z7eCnxU25eiN",
        "colab": {
          "base_uri": "https://localhost:8080/"
        },
        "outputId": "fed8d8ab-930c-4d2c-8d4b-c2d6e07a60f9"
      },
      "source": [
        "\n",
        "# Assuming the first column is the feature and the second column is the label\n",
        "X = data.iloc[:, 0].values\n",
        "y = data.iloc[:, 1].values\n",
        "\n",
        "# Split the data into training+validation (80%) and test sets (20%)\n",
        "X_train_val, X_test, y_train_val, y_test = train_test_split(X, y, test_size=0.2, random_state=42)\n",
        "\n",
        "# Further split the training+validation set into training (80%) and validation sets (20%)\n",
        "X_train, X_val, y_train, y_val = train_test_split(X_train_val, y_train_val, test_size=0.25, random_state=42)  # 0.25 * 0.8 = 0.2\n",
        "\n",
        "# Print the shapes of the splits to confirm\n",
        "print(f\"Training set shape: {X_train.shape}, {y_train.shape}\")\n",
        "print(f\"Validation set shape: {X_val.shape}, {y_val.shape}\")\n",
        "print(f\"Test set shape: {X_test.shape}, {y_test.shape}\")\n",
        "\n",
        "# Ensure the data is in the correct format for TensorFlow\n",
        "X_train = np.array(X_train)\n",
        "y_train = np.array(y_train)\n",
        "X_val = np.array(X_val)\n",
        "y_val = np.array(y_val)\n",
        "X_test = np.array(X_test)\n",
        "y_test = np.array(y_test)\n",
        "\n",
        "print(f\"Training set shape (TensorFlow): {X_train.shape}, {y_train.shape}\")\n",
        "print(f\"Validation set shape (TensorFlow): {X_val.shape}, {y_val.shape}\")\n",
        "print(f\"Test set shape (TensorFlow): {X_test.shape}, {y_test.shape}\")\n"
      ],
      "execution_count": 43,
      "outputs": [
        {
          "output_type": "stream",
          "name": "stdout",
          "text": [
            "Training set shape: (250085,), (250085,)\n",
            "Validation set shape: (83362,), (83362,)\n",
            "Test set shape: (83362,), (83362,)\n",
            "Training set shape (TensorFlow): (250085,), (250085,)\n",
            "Validation set shape (TensorFlow): (83362,), (83362,)\n",
            "Test set shape (TensorFlow): (83362,), (83362,)\n"
          ]
        }
      ]
    },
    {
      "cell_type": "code",
      "metadata": {
        "id": "oDYXMfZy5eiP",
        "colab": {
          "base_uri": "https://localhost:8080/"
        },
        "outputId": "cb3ebbd9-9a6d-4646-a4b0-39b7155d20a3"
      },
      "source": [
        "for tweet in range(5) :\n",
        "  print(f\"tweet : {X_train[tweet]}\\n-> label : {y_train[tweet]}\")"
      ],
      "execution_count": 44,
      "outputs": [
        {
          "output_type": "stream",
          "name": "stdout",
          "text": [
            "tweet : i told him about how i was feeling helpless about my health and he shuffled the cards\n",
            "-> label : fear\n",
            "tweet : im just thankful that my hair feels moisturized but just to be sure im going to do a conditioning treatment since i havent done one in a few wks and be more mindful about maintaining these treatments\n",
            "-> label : joy\n",
            "tweet : im frustrated at myself for how i feel i know shes sincere i know she means these things\n",
            "-> label : joy\n",
            "tweet : i could feel safe enough doing so\n",
            "-> label : joy\n",
            "tweet : i have no idea what kind they are but i feel assured that they are valuable and necessary so i attempt to rescue each one\n",
            "-> label : joy\n"
          ]
        }
      ]
    },
    {
      "cell_type": "markdown",
      "metadata": {
        "id": "gcAflLv6xIgp"
      },
      "source": [
        "## Task 3: Tokenizer\n",
        "\n",
        "1. Tokenizing the tweets"
      ]
    },
    {
      "cell_type": "code",
      "metadata": {
        "id": "qfX5-ResxIgq"
      },
      "source": [
        "from tensorflow.keras.preprocessing.text import Tokenizer\n",
        "# Initialize a Tokenizer object with parameters:\n",
        "# 'num_words=10000' sets the maximum number of words to keep based on word frequency, limiting to the 10,000 most common words.\n",
        "# 'oov_token=\"<UNK>\"' sets the token to use for out-of-vocabulary words.\n",
        "tokenizer = Tokenizer(num_words=10000, oov_token=\"<UNK>\")\n",
        "\n",
        "# Fit the tokenizer on the training data 'X_train'.\n",
        "# This updates internal vocabulary based on a list of texts.\n",
        "tokenizer.fit_on_texts(X_train)"
      ],
      "execution_count": 62,
      "outputs": []
    },
    {
      "cell_type": "markdown",
      "metadata": {
        "id": "i3Bqm7b2xIgu"
      },
      "source": [
        "## Task 4: Padding and Truncating Sequences\n",
        "\n",
        "1. Checking length of the tweets\n",
        "2. Creating padded sequences"
      ]
    },
    {
      "cell_type": "code",
      "metadata": {
        "id": "mLvf_WFZxIgu",
        "colab": {
          "base_uri": "https://localhost:8080/",
          "height": 472
        },
        "outputId": "95833547-f972-4ba5-cd35-fcc748d1394e"
      },
      "source": [
        "# Calculate the lengths of the tweets\n",
        "lengths = [len(tweet.split(' ')) for tweet in X_train]\n",
        "\n",
        "plt.hist(lengths, bins=50)\n",
        "\n",
        "plt.xlabel('Number of Words')\n",
        "plt.ylabel('Frequency')\n",
        "plt.title('Distribution of Tweet Lengths')\n",
        "\n",
        "plt.show()"
      ],
      "execution_count": 70,
      "outputs": [
        {
          "output_type": "display_data",
          "data": {
            "text/plain": [
              "<Figure size 640x480 with 1 Axes>"
            ],
            "image/png": "[encoded data removed]"
          },
          "metadata": {}
        }
      ]
    },
    {
      "cell_type": "code",
      "metadata": {
        "id": "EOi5lIE3xIgx"
      },
      "source": [
        "max_length = 50\n",
        "from tensorflow.keras.preprocessing.sequence import pad_sequences"
      ],
      "execution_count": 57,
      "outputs": []
    },
    {
      "cell_type": "code",
      "metadata": {
        "id": "eglH77ky5ei0"
      },
      "source": [
        "# Convert the training texts into sequences of integers.\n",
        "# Each word in the texts is replaced with its corresponding integer from the tokenizer's word index.\n",
        "sequences = tokenizer.texts_to_sequences(X_train)\n",
        "\n",
        "# Pad the sequences to ensure that they all have the same length.\n",
        "# 'maxlen' specifies the maximum length of the sequences after padding.\n",
        "# 'padding='post'' ensures that padding is added to the end of the sequences.\n",
        "# 'truncating='post'' ensures that sequences longer than 'maxlen' are truncated at the end.\n",
        "padded_sequences = pad_sequences(sequences, maxlen=max_length, padding='post', truncating='post')\n"
      ],
      "execution_count": 83,
      "outputs": []
    },
    {
      "cell_type": "code",
      "metadata": {
        "id": "iGR473HA5ei7",
        "colab": {
          "base_uri": "https://localhost:8080/"
        },
        "outputId": "6c3019d1-fd27-43f1-9c36-9f70a5d43247"
      },
      "source": [
        "print(padded_sequences[0])"
      ],
      "execution_count": 59,
      "outputs": [
        {
          "output_type": "stream",
          "name": "stdout",
          "text": [
            "[   2  300   80   28   54    2   22    8  286   28   11 1044    4   65\n",
            "    1    6 1881    0    0    0    0    0    0    0    0    0    0    0\n",
            "    0    0    0    0    0    0    0    0    0    0    0    0    0    0\n",
            "    0    0    0    0    0    0    0    0]\n"
          ]
        }
      ]
    },
    {
      "cell_type": "markdown",
      "metadata": {
        "id": "BURhOX_KxIg8"
      },
      "source": [
        "## Task 5: Preparing the Labels\n",
        "\n",
        "1. Creating classes to index and index to classes dictionaries\n",
        "2. Converting text labels to numeric labels"
      ]
    },
    {
      "cell_type": "code",
      "metadata": {
        "id": "SufT2bpD5ejE",
        "colab": {
          "base_uri": "https://localhost:8080/"
        },
        "outputId": "957d7426-3530-4bb2-cacd-21ec2b96104f"
      },
      "source": [
        "classes = set(y_train)\n",
        "print(classes)"
      ],
      "execution_count": 61,
      "outputs": [
        {
          "output_type": "stream",
          "name": "stdout",
          "text": [
            "{'joy', 'sadness', 'fear', 'anger', 'love', 'surprise'}\n"
          ]
        }
      ]
    },
    {
      "cell_type": "code",
      "metadata": {
        "id": "rpwzL88I7YSm",
        "colab": {
          "base_uri": "https://localhost:8080/",
          "height": 430
        },
        "outputId": "c3137138-a1b0-4e3a-bbab-3f0cdfa4f17f"
      },
      "source": [
        "plt.hist(y_train, bins=12)\n",
        "plt.show()"
      ],
      "execution_count": 67,
      "outputs": [
        {
          "output_type": "display_data",
          "data": {
            "text/plain": [
              "<Figure size 640x480 with 1 Axes>"
            ],
            "image/png": "[encoded data removed]"
          },
          "metadata": {}
        }
      ]
    },
    {
      "cell_type": "code",
      "metadata": {
        "id": "dNLF6rXL5ejN",
        "colab": {
          "base_uri": "https://localhost:8080/"
        },
        "outputId": "f985fbbc-3f6b-43d1-f9a6-a8aa55220752"
      },
      "source": [
        "classe_to_index = dict((classe , index ) for index, classe in enumerate(classes))\n",
        "print(classe_to_index)"
      ],
      "execution_count": 71,
      "outputs": [
        {
          "output_type": "stream",
          "name": "stdout",
          "text": [
            "{'joy': 0, 'sadness': 1, 'fear': 2, 'anger': 3, 'love': 4, 'surprise': 5}\n"
          ]
        }
      ]
    },
    {
      "cell_type": "code",
      "metadata": {
        "id": "_08InVyM5ejc"
      },
      "source": [
        "# Convert class labels to numerical values using the mapping\n",
        "y_train_numeric = [classe_to_index[label] for label in y_train]"
      ],
      "execution_count": 72,
      "outputs": []
    },
    {
      "cell_type": "code",
      "metadata": {
        "id": "gpeDoA6gxIhE",
        "colab": {
          "base_uri": "https://localhost:8080/"
        },
        "outputId": "ff02d942-ea29-4a80-ec9c-0cb05270bbdd"
      },
      "source": [
        "print (f\"class {y_train_numeric[0]} : {y_train[0]}\")"
      ],
      "execution_count": 75,
      "outputs": [
        {
          "output_type": "stream",
          "name": "stdout",
          "text": [
            "class 2 : fear\n"
          ]
        }
      ]
    },
    {
      "cell_type": "markdown",
      "metadata": {
        "id": "c-v0Mnh8xIhP"
      },
      "source": [
        "## Task 6: Creating the Model\n",
        "\n",
        "1. Creating the model\n",
        "2. Compiling the model"
      ]
    },
    {
      "cell_type": "code",
      "source": [
        "# Define your model using the Sequential API\n",
        "model = tf.keras.Sequential([\n",
        "    # Embedding layer: Maps each word index to a dense vector representation\n",
        "    tf.keras.layers.Embedding(input_dim=10000, output_dim=16, input_length=max_length),\n",
        "\n",
        "    # Bidirectional LSTM layer: Processes input in both forward and backward directions\n",
        "    tf.keras.layers.Bidirectional(tf.keras.layers.LSTM(units=20, return_sequences=True)),\n",
        "\n",
        "    # Bidirectional LSTM layer: Processes input in both forward and backward directions\n",
        "    tf.keras.layers.Bidirectional(tf.keras.layers.LSTM(units=20)),\n",
        "\n",
        "    # Dense (fully connected) layer with softmax activation for multi-class classification\n",
        "    tf.keras.layers.Dense(units=6, activation='softmax')\n",
        "])\n",
        "\n",
        "# Compile the model with specified loss function, optimizer, and metrics\n",
        "model.compile(\n",
        "    loss='sparse_categorical_crossentropy',  # Loss function for multi-class classification\n",
        "    optimizer='adam',  # Optimizer to update weights based on gradient descent\n",
        "    metrics=['accuracy']  # Metrics to evaluate during training and testing\n",
        ")\n"
      ],
      "metadata": {
        "id": "Nm7Gt_YsuBDJ"
      },
      "execution_count": 79,
      "outputs": []
    },
    {
      "cell_type": "code",
      "source": [
        "model.summary()"
      ],
      "metadata": {
        "colab": {
          "base_uri": "https://localhost:8080/"
        },
        "id": "8ocKf9X_uUPt",
        "outputId": "74dea7ac-c4b9-4946-91e6-22468514b06d"
      },
      "execution_count": 80,
      "outputs": [
        {
          "output_type": "stream",
          "name": "stdout",
          "text": [
            "Model: \"sequential_1\"\n",
            "_________________________________________________________________\n",
            " Layer (type)                Output Shape              Param #   \n",
            "=================================================================\n",
            " embedding_1 (Embedding)     (None, 50, 16)            160000    \n",
            "                                                                 \n",
            " bidirectional_2 (Bidirecti  (None, 50, 40)            5920      \n",
            " onal)                                                           \n",
            "                                                                 \n",
            " bidirectional_3 (Bidirecti  (None, 40)                9760      \n",
            " onal)                                                           \n",
            "                                                                 \n",
            " dense_1 (Dense)             (None, 6)                 246       \n",
            "                                                                 \n",
            "=================================================================\n",
            "Total params: 175926 (687.21 KB)\n",
            "Trainable params: 175926 (687.21 KB)\n",
            "Non-trainable params: 0 (0.00 Byte)\n",
            "_________________________________________________________________\n"
          ]
        }
      ]
    },
    {
      "cell_type": "markdown",
      "metadata": {
        "id": "1HST_CHjxIhR"
      },
      "source": [
        "## Task 7: Training the Model\n",
        "\n",
        "1. Preparing a validation set\n",
        "2. Training the model"
      ]
    },
    {
      "cell_type": "code",
      "metadata": {
        "id": "Ff7F3hCK5ejm"
      },
      "source": [
        "# Preparing the validation set\n",
        "\n",
        "sequences_val = tokenizer.texts_to_sequences(X_val)\n",
        "\n",
        "padded_sequences_val = pad_sequences(sequences_val, maxlen=max_length, padding='post', truncating='post')\n",
        "\n",
        "y_val_numeric = [classe_to_index[label] for label in y_val]\n"
      ],
      "execution_count": 84,
      "outputs": []
    },
    {
      "cell_type": "code",
      "metadata": {
        "id": "hlMKaZ3H5ejr",
        "colab": {
          "base_uri": "https://localhost:8080/"
        },
        "outputId": "1983356f-513b-46e6-a2a2-d40105ed4dbd"
      },
      "source": [
        "print (f\"class {y_val_numeric[0]} : {y_val[0]}\")"
      ],
      "execution_count": 85,
      "outputs": [
        {
          "output_type": "stream",
          "name": "stdout",
          "text": [
            "class 0 : joy\n"
          ]
        }
      ]
    },
    {
      "cell_type": "code",
      "metadata": {
        "id": "bzBqnWQ-5ejw",
        "colab": {
          "base_uri": "https://localhost:8080/"
        },
        "outputId": "79814290-db21-488c-e04f-7e48084e0b71"
      },
      "source": [
        "# Ensure padded_sequences and padded_sequences_val are numpy arrays\n",
        "padded_sequences = np.array(padded_sequences)\n",
        "padded_sequences_val = np.array(padded_sequences_val)\n",
        "\n",
        "# Ensure y_train_numeric and y_val_numeric are numpy arrays\n",
        "y_train_numeric = np.array(y_train_numeric)\n",
        "y_val_numeric = np.array(y_val_numeric)\n",
        "\n",
        "# Training the model\n",
        "history = model.fit(\n",
        "    padded_sequences,      # Training data: numpy array of padded sequences of tweets\n",
        "    y_train_numeric,       # Training labels: numpy array of numeric labels\n",
        "    validation_data=(padded_sequences_val, y_val_numeric),  # Validation data for monitoring performance\n",
        "    epochs=20,             # Number of epochs (iterations over the entire dataset)\n",
        "    callbacks=[tf.keras.callbacks.EarlyStopping(monitor='val_loss', patience=2)]\n",
        "    # Early stopping callback: Monitors validation loss and stops training if no improvement after 2 epochs\n",
        ")"
      ],
      "execution_count": 88,
      "outputs": [
        {
          "output_type": "stream",
          "name": "stdout",
          "text": [
            "Epoch 1/20\n",
            "7816/7816 [==============================] - 161s 20ms/step - loss: 0.3269 - accuracy: 0.8719 - val_loss: 0.1319 - val_accuracy: 0.9322\n",
            "Epoch 2/20\n",
            "7816/7816 [==============================] - 127s 16ms/step - loss: 0.1090 - accuracy: 0.9369 - val_loss: 0.1026 - val_accuracy: 0.9379\n",
            "Epoch 3/20\n",
            "7816/7816 [==============================] - 132s 17ms/step - loss: 0.0969 - accuracy: 0.9403 - val_loss: 0.0994 - val_accuracy: 0.9365\n",
            "Epoch 4/20\n",
            "7816/7816 [==============================] - 131s 17ms/step - loss: 0.0919 - accuracy: 0.9414 - val_loss: 0.0982 - val_accuracy: 0.9387\n",
            "Epoch 5/20\n",
            "7816/7816 [==============================] - 125s 16ms/step - loss: 0.0894 - accuracy: 0.9433 - val_loss: 0.0973 - val_accuracy: 0.9370\n",
            "Epoch 6/20\n",
            "7816/7816 [==============================] - 125s 16ms/step - loss: 0.0869 - accuracy: 0.9438 - val_loss: 0.1020 - val_accuracy: 0.9364\n",
            "Epoch 7/20\n",
            "7816/7816 [==============================] - 124s 16ms/step - loss: 0.0845 - accuracy: 0.9454 - val_loss: 0.1003 - val_accuracy: 0.9358\n"
          ]
        }
      ]
    },
    {
      "cell_type": "markdown",
      "metadata": {
        "id": "EdsJyMTLxIhX"
      },
      "source": [
        "## Task 8: Evaluating the Model\n",
        "\n",
        "1. Visualizing training history\n",
        "2. Prepraring a test set\n",
        "3. A look at individual predictions on the test set\n",
        "4. A look at all predictions on the test set"
      ]
    },
    {
      "cell_type": "code",
      "metadata": {
        "id": "ENCfvXeLxIhX",
        "colab": {
          "base_uri": "https://localhost:8080/",
          "height": 346
        },
        "outputId": "87039f9e-f273-44c3-cb3b-9d26d1ce77a9"
      },
      "source": [
        "def show_history(h):\n",
        "    epochs_trained = len(h.history['loss'])\n",
        "    plt.figure(figsize=(16, 6))\n",
        "\n",
        "    plt.subplot(1, 2, 1)\n",
        "    plt.plot(range(0, epochs_trained), h.history.get('accuracy'), label='Training')\n",
        "    plt.plot(range(0, epochs_trained), h.history.get('val_accuracy'), label='Validation')\n",
        "    plt.ylim([0., 1.])\n",
        "    plt.xlabel('Epochs')\n",
        "    plt.ylabel('Accuracy')\n",
        "    plt.legend()\n",
        "\n",
        "    plt.subplot(1, 2, 2)\n",
        "    plt.plot(range(0, epochs_trained), h.history.get('loss'), label='Training')\n",
        "    plt.plot(range(0, epochs_trained), h.history.get('val_loss'), label='Validation')\n",
        "    plt.xlabel('Epochs')\n",
        "    plt.ylabel('Loss')\n",
        "    plt.legend()\n",
        "    plt.show()\n",
        "\n",
        "\n",
        "show_history(history)"
      ],
      "execution_count": 103,
      "outputs": [
        {
          "output_type": "display_data",
          "data": {
            "text/plain": [
              "<Figure size 1600x600 with 2 Axes>"
            ],
            "image/png": "[encoded data removed]"
          },
          "metadata": {}
        }
      ]
    },
    {
      "cell_type": "code",
      "metadata": {
        "id": "kWuzoz8uxIha"
      },
      "source": [
        "#Prepraring a test set\n",
        "\n",
        "sequences_test = tokenizer.texts_to_sequences(X_test)\n",
        "\n",
        "padded_sequences_test = pad_sequences(sequences_test, maxlen=max_length, padding='post', truncating='post')\n",
        "\n",
        "y_test_numeric = [classe_to_index[label] for label in y_test]"
      ],
      "execution_count": 91,
      "outputs": []
    },
    {
      "cell_type": "code",
      "source": [
        "padded_sequences_test = np.array(padded_sequences_test)\n",
        "\n",
        "y_test_numeric = np.array(y_test_numeric)\n",
        "\n",
        "model.evaluate(padded_sequences_test, y_test_numeric)"
      ],
      "metadata": {
        "colab": {
          "base_uri": "https://localhost:8080/"
        },
        "id": "TEIhD3ha5UiV",
        "outputId": "21542655-6276-4bfb-a5e0-25b11da4bccb"
      },
      "execution_count": 98,
      "outputs": [
        {
          "output_type": "stream",
          "name": "stdout",
          "text": [
            "2606/2606 [==============================] - 18s 7ms/step - loss: 0.1001 - accuracy: 0.9375\n"
          ]
        },
        {
          "output_type": "execute_result",
          "data": {
            "text/plain": [
              "[0.1000940278172493, 0.9375494718551636]"
            ]
          },
          "metadata": {},
          "execution_count": 98
        }
      ]
    },
    {
      "cell_type": "code",
      "metadata": {
        "id": "7vRVJ_2SxIhc",
        "colab": {
          "base_uri": "https://localhost:8080/"
        },
        "outputId": "13409de4-ef92-4cec-a3e4-70eb50ffd696"
      },
      "source": [
        "padded_sequences_test_reshaped = np.expand_dims(padded_sequences_test[0], axis=0)\n",
        "\n",
        "predict = model.predict(padded_sequences_test_reshaped)\n",
        "\n",
        "real_class = y_test[1]\n",
        "\n",
        "predicted_class = np.argmax(predict, axis=-1)\n",
        "\n",
        "print(f\"Real class: {classe_to_index[real_class]}, Predicted class: {predicted_class}\")\n"
      ],
      "execution_count": 104,
      "outputs": [
        {
          "output_type": "stream",
          "name": "stdout",
          "text": [
            "1/1 [==============================] - 0s 35ms/step\n",
            "Real class: 1, Predicted class: [1]\n"
          ]
        }
      ]
    }
  ]
}